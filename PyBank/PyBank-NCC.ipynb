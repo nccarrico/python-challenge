{
 "cells": [
  {
   "cell_type": "code",
   "execution_count": 13,
   "metadata": {},
   "outputs": [],
   "source": [
    "# open file at csvpath\n",
    "import csv\n",
    "csvpath = 'budget_data.csv'\n",
    "\n",
    "with open(csvpath, newline='') as csvfile:\n",
    "    csvreader = csv.reader(csvfile, delimiter=',')\n",
    "    csvheader = next(csvreader)\n",
    "    \n",
    "    num_rows = 0\n",
    "    net_total = 0\n",
    "    dates = []\n",
    "    values = []\n",
    "    \n",
    "    #iterate through rows and make new lists, dates and values, and calculate total months and net profit \n",
    "    for row in csvreader:\n",
    "        dates.append(row[0])\n",
    "        values.append(row[1])\n",
    "        num_rows += 1\n",
    "        net_total += int(row[1])"
   ]
  },
  {
   "cell_type": "code",
   "execution_count": 40,
   "metadata": {},
   "outputs": [
    {
     "name": "stdout",
     "output_type": "stream",
     "text": [
      "[1, 2]\n"
     ]
    }
   ],
   "source": [
    "#iterate through values list and make new list called changes, then calculate average change \n",
    "changes = []\n",
    "total_changes = 0\n",
    "\n",
    "for i in range(num_rows - 1):\n",
    "    change = int(values[i + 1]) - int(values[i])\n",
    "    changes.append(change)\n",
    "\n",
    "for e in changes:\n",
    "    total_changes += int(e)\n",
    "    \n",
    "avg_change = total_changes / len(changes)\n",
    "\n",
    "#function to find index of max change\n",
    "def find_max_i(l):\n",
    "    max_indexes = []\n",
    "    for i in range(len(l)):\n",
    "        if l[i] == max(l):\n",
    "            max_indexes.append(i)\n",
    "    return max_indexes\n",
    "print(find_max_i([1,2,2]))\n",
    "\n",
    "#function to find index of min change            \n",
    "def find_min_i(l):\n",
    "    min_index = 0\n",
    "    for i in range(len(l)):\n",
    "        if l[min_index] == min(l):\n",
    "            return min_index\n",
    "        else:\n",
    "            min_index += 1"
   ]
  },
  {
   "cell_type": "code",
   "execution_count": null,
   "metadata": {},
   "outputs": [],
   "source": [
    "l.index(max(l))"
   ]
  },
  {
   "cell_type": "code",
   "execution_count": 43,
   "metadata": {},
   "outputs": [
    {
     "data": {
      "text/plain": [
       "['May-2010', 'Jun-2010']"
      ]
     },
     "execution_count": 43,
     "metadata": {},
     "output_type": "execute_result"
    }
   ],
   "source": [
    "def get_max_dates(dates, max_indexes):\n",
    "    max_dates = []\n",
    "    for i in max_indexes:\n",
    "        max_dates.append(dates[i])\n",
    "    return(max_dates)\n",
    "get_max_dates(dates, max_indexes=[4,5])"
   ]
  },
  {
   "cell_type": "code",
   "execution_count": 8,
   "metadata": {},
   "outputs": [],
   "source": [
    "greatest_inc_date = dates[find_max_i(changes) + 1]\n",
    "greatest_dec_date = dates[find_min_i(changes) + 1]\n",
    "greatest_inc_value = max(changes)\n",
    "greatest_dec_value = min(changes)"
   ]
  },
  {
   "cell_type": "code",
   "execution_count": 9,
   "metadata": {},
   "outputs": [
    {
     "name": "stdout",
     "output_type": "stream",
     "text": [
      "Financial Analysis\n",
      "----------------------------------\n",
      "Total Months: 86\n",
      "Total: $38382578\n",
      "Average Change: $-2315.1176470588234\n",
      "Greatest Increase in Profits: $ Feb-2012 ($ 1926159)\n",
      "Greatest Decrease in Profits: $ Sep-2013 ($ -2196167)\n"
     ]
    }
   ],
   "source": [
    "#print results in console\n",
    "print(\"Financial Analysis\")\n",
    "print(\"----------------------------------\")\n",
    "print(\"Total Months: \" + str(num_rows))\n",
    "print(\"Total: $\" + str(net_total))\n",
    "print(\"Average Change: $\" + str(avg_change))\n",
    "print(f\"Greatest Increase in Profits: $ {greatest_inc_date} ($ {greatest_inc_value})\")\n",
    "print(f\"Greatest Decrease in Profits: $ {greatest_dec_date} ($ {greatest_dec_value})\")"
   ]
  },
  {
   "cell_type": "code",
   "execution_count": 10,
   "metadata": {},
   "outputs": [],
   "source": [
    "output_path = \"Financial_Analysis.csv\"\n",
    "\n",
    "with open(output_path, 'w', newline='') as output:\n",
    "    csvwriter = csv.writer(output)\n",
    "    csvwriter.writerow([\"Financial Analysis\"])\n",
    "    csvwriter.writerow([\"----------------------------------\"])\n",
    "    csvwriter.writerow([\"Total Months: \" + str(num_rows)])\n",
    "    csvwriter.writerow([\"Total: $\" + str(net_total)])\n",
    "    csvwriter.writerow([\"Average Change: $\" + str(avg_change)])\n",
    "    csvwriter.writerow([f\"Greatest Increase in Profits: $ {greatest_inc_date} ($ {greatest_inc_value})\"])\n",
    "    csvwriter.writerow([f\"Greatest Decrease in Profits: $ {greatest_dec_date} ($ {greatest_dec_value})\"])"
   ]
  }
 ],
 "metadata": {
  "kernelspec": {
   "display_name": "Python 3",
   "language": "python",
   "name": "python3"
  },
  "language_info": {
   "codemirror_mode": {
    "name": "ipython",
    "version": 3
   },
   "file_extension": ".py",
   "mimetype": "text/x-python",
   "name": "python",
   "nbconvert_exporter": "python",
   "pygments_lexer": "ipython3",
   "version": "3.6.7"
  }
 },
 "nbformat": 4,
 "nbformat_minor": 2
}
