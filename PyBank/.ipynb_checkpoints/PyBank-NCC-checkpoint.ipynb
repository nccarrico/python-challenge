{
 "cells": [
  {
   "cell_type": "code",
   "execution_count": 77,
   "metadata": {},
   "outputs": [],
   "source": [
    "# open file at csvpath\n",
    "import csv\n",
    "csvpath = 'budget_data.csv'\n",
    "\n",
    "with open(csvpath, newline='') as csvfile:\n",
    "    csvreader = csv.reader(csvfile, delimiter=',')\n",
    "    csvheader = next(csvreader)\n",
    "    \n",
    "    num_rows = 0\n",
    "    net_total = 0\n",
    "    dates = []\n",
    "    values = []\n",
    "    \n",
    "    #iterate through rows and make new lists, dates and values, and calculate total months and net profit \n",
    "    for row in csvreader:\n",
    "        dates.append(row[0])\n",
    "        values.append(row[1])\n",
    "        num_rows += 1\n",
    "        net_total += int(row[1])"
   ]
  },
  {
   "cell_type": "code",
   "execution_count": 78,
   "metadata": {},
   "outputs": [],
   "source": [
    "#iterate through values list and make new list called changes, then calculate average change \n",
    "changes = []\n",
    "total_changes = 0\n",
    "\n",
    "for i in range(num_rows - 1):\n",
    "    change = int(values[i + 1]) - int(values[i])\n",
    "    changes.append(change)\n",
    "\n",
    "for e in changes:\n",
    "    total_changes += int(e)\n",
    "    \n",
    "avg_change = total_changes / len(changes)\n",
    "\n",
    "#function to find index of max change\n",
    "def find_max_i(l):\n",
    "    max_index = 0\n",
    "    for i in range(len(l)):\n",
    "        if l[max_index] == max(l):\n",
    "            return max_index\n",
    "        else:\n",
    "            max_index += 1\n",
    "#function to find index of min change            \n",
    "def find_min_i(l):\n",
    "    min_index = 0\n",
    "    for i in range(len(l)):\n",
    "        if l[min_index] == min(l):\n",
    "            return min_index\n",
    "        else:\n",
    "            min_index += 1"
   ]
  },
  {
   "cell_type": "code",
   "execution_count": 79,
   "metadata": {},
   "outputs": [
    {
     "name": "stdout",
     "output_type": "stream",
     "text": [
      "Financial Analysis\n",
      "----------------------------------\n",
      "Total Months: 86\n",
      "Total: $38382578\n",
      "Average Change: $-2315.1176470588234\n",
      "Greatest Increase in Profits: $ Feb-2012 ($ 1926159)\n",
      "Greatest Decrease in Profits: $ Sep-2013 ($ -2196167)\n"
     ]
    }
   ],
   "source": [
    "#function to print results\n",
    "def show_results(l1, l2):\n",
    "    print(\"Financial Analysis\")\n",
    "    print(\"----------------------------------\")\n",
    "    print(\"Total Months: \" + str(num_rows))\n",
    "    print(\"Total: $\" + str(net_total))\n",
    "    print(\"Average Change: $\" + str(avg_change))\n",
    "    print(f\"Greatest Increase in Profits: $ {l1[find_max_i(l2) + 1]} ($ {max(l2)})\")\n",
    "    print(f\"Greatest Decrease in Profits: $ {l1[find_min_i(l2) + 1]} ($ {min(l2)})\")\n",
    "    \n",
    "show_results(dates, changes)"
   ]
  },
  {
   "cell_type": "code",
   "execution_count": null,
   "metadata": {},
   "outputs": [],
   "source": []
  }
 ],
 "metadata": {
  "kernelspec": {
   "display_name": "Python 3",
   "language": "python",
   "name": "python3"
  },
  "language_info": {
   "codemirror_mode": {
    "name": "ipython",
    "version": 3
   },
   "file_extension": ".py",
   "mimetype": "text/x-python",
   "name": "python",
   "nbconvert_exporter": "python",
   "pygments_lexer": "ipython3",
   "version": "3.6.7"
  }
 },
 "nbformat": 4,
 "nbformat_minor": 2
}
