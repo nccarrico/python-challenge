{
 "cells": [
  {
   "cell_type": "code",
   "execution_count": 23,
   "metadata": {},
   "outputs": [],
   "source": [
    "# import dependecies\n",
    "import csv"
   ]
  },
  {
   "cell_type": "code",
   "execution_count": 24,
   "metadata": {},
   "outputs": [],
   "source": [
    "# open csv file\n",
    "filepath = \"election_data.csv\"\n",
    "with open(filepath, newline='') as csvfile:\n",
    "    csvreader = csv.reader(csvfile, delimiter=',')\n",
    "    csvheader = next(csvreader)\n",
    "   \n",
    "    # count number of votes cast and put row data into lists\n",
    "    vote_count = 0\n",
    "    voter_id = []\n",
    "    counties = []\n",
    "    candidates = []\n",
    "    for row in csvreader:\n",
    "        vote_count += 1\n",
    "        voter_id.append(row[0])\n",
    "        counties.append(row[1])\n",
    "        candidates.append(row[2])"
   ]
  },
  {
   "cell_type": "code",
   "execution_count": 25,
   "metadata": {},
   "outputs": [
    {
     "data": {
      "text/plain": [
       "['Khan', 'Correy', 'Li', \"O'Tooley\"]"
      ]
     },
     "execution_count": 25,
     "metadata": {},
     "output_type": "execute_result"
    }
   ],
   "source": [
    "# find list of candidates that received votes\n",
    "candidate_list = []\n",
    "\n",
    "for person in candidates:\n",
    "    if person not in candidate_list:\n",
    "        candidate_list.append(person)\n",
    "        \n",
    "candidate_list    "
   ]
  },
  {
   "cell_type": "code",
   "execution_count": 26,
   "metadata": {},
   "outputs": [
    {
     "data": {
      "text/plain": [
       "[2218231, 704200, 492940, 105630]"
      ]
     },
     "execution_count": 26,
     "metadata": {},
     "output_type": "execute_result"
    }
   ],
   "source": [
    "# count votes for each candidate in candidate list\n",
    "votes_per_candidate = []\n",
    "\n",
    "for people in candidate_list:\n",
    "    votes_per_candidate.append(candidates.count(people))\n",
    "    \n",
    "votes_per_candidate"
   ]
  },
  {
   "cell_type": "code",
   "execution_count": 29,
   "metadata": {},
   "outputs": [
    {
     "data": {
      "text/plain": [
       "[63.00001050837531, 19.999994319797125, 13.999996023857989, 2.999999147969569]"
      ]
     },
     "execution_count": 29,
     "metadata": {},
     "output_type": "execute_result"
    }
   ],
   "source": [
    "# calculate percentage of votes each candidate won\n",
    "percent_per_candidate = [e / vote_count * 100 for e in votes_per_candidate ]\n",
    "percent_per_candidate"
   ]
  },
  {
   "cell_type": "code",
   "execution_count": 35,
   "metadata": {},
   "outputs": [],
   "source": [
    "# find index of greatest number of votes\n",
    "winner_index = votes_per_candidate.index(max(votes_per_candidate))"
   ]
  },
  {
   "cell_type": "code",
   "execution_count": 36,
   "metadata": {},
   "outputs": [
    {
     "data": {
      "text/plain": [
       "'Khan'"
      ]
     },
     "execution_count": 36,
     "metadata": {},
     "output_type": "execute_result"
    }
   ],
   "source": [
    "# find winner\n",
    "winner = candidate_list[winner_index]\n",
    "winner"
   ]
  },
  {
   "cell_type": "code",
   "execution_count": 52,
   "metadata": {},
   "outputs": [
    {
     "name": "stdout",
     "output_type": "stream",
     "text": [
      "Election Results\n",
      "-------------------------\n",
      "Total Votes: 3521001\n",
      "-------------------------\n",
      "Khan: 63.0% (2218231)\n",
      "Correy: 20.0% (704200)\n",
      "Li: 14.0% (492940)\n",
      "O'Tooley: 3.0% (105630)\n",
      "-------------------------\n",
      "Winner: Khan\n",
      "-------------------------\n"
     ]
    }
   ],
   "source": [
    "# print results to console\n",
    "print(\"Election Results\")\n",
    "print(\"-------------------------\")\n",
    "print(f\"Total Votes: {vote_count}\")\n",
    "print(\"-------------------------\")\n",
    "for r in range(len(candidate_list)):\n",
    "    print(f\"{candidate_list[r]}: {round(percent_per_candidate[r],3)}% ({votes_per_candidate[r]})\")\n",
    "print(\"-------------------------\")\n",
    "print(f\"Winner: {winner}\")\n",
    "print(\"-------------------------\")"
   ]
  },
  {
   "cell_type": "code",
   "execution_count": 54,
   "metadata": {},
   "outputs": [],
   "source": [
    "# export text file with results\n",
    "output_path = \"Election Results.csv\"\n",
    "\n",
    "with open(output_path, 'w', newline='') as output:\n",
    "    csvwriter = csv.writer(output)\n",
    "    csvwriter.writerow([\"Election Results\"])\n",
    "    csvwriter.writerow([\"-------------------------\"])\n",
    "    csvwriter.writerow([f\"Total Votes: {vote_count}\"])\n",
    "    csvwriter.writerow([\"-------------------------\"])\n",
    "    for r in range(len(candidate_list)):\n",
    "        csvwriter.writerow([f\"{candidate_list[r]}: {round(percent_per_candidate[r],3)}% ({votes_per_candidate[r]})\"])\n",
    "    csvwriter.writerow([\"-------------------------\"])\n",
    "    csvwriter.writerow([f\"Winner: {winner}\"])\n",
    "    csvwriter.writerow([\"-------------------------\"])"
   ]
  }
 ],
 "metadata": {
  "kernelspec": {
   "display_name": "Python3 (PythonData)",
   "language": "python",
   "name": "pythondata"
  },
  "language_info": {
   "codemirror_mode": {
    "name": "ipython",
    "version": 3
   },
   "file_extension": ".py",
   "mimetype": "text/x-python",
   "name": "python",
   "nbconvert_exporter": "python",
   "pygments_lexer": "ipython3",
   "version": "3.6.7"
  }
 },
 "nbformat": 4,
 "nbformat_minor": 2
}
